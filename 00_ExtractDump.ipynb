{
 "cells": [
  {
   "cell_type": "code",
   "execution_count": 34,
   "metadata": {
    "collapsed": true
   },
   "outputs": [],
   "source": [
    "import gzip, csv, sys, os\n",
    "import __main__ as main"
   ]
  },
  {
   "cell_type": "markdown",
   "metadata": {},
   "source": [
    "# Overview\n",
    "\n",
    "This notebook is used to extract the html files from a mysql table dump of the html from Julians backup of his database."
   ]
  },
  {
   "cell_type": "markdown",
   "metadata": {},
   "source": [
    "### Arguments\n",
    "- 0 Script name\n",
    "- 1 Input Path\n",
    "- 2 Output Directory"
   ]
  },
  {
   "cell_type": "code",
   "execution_count": 26,
   "metadata": {
    "collapsed": false
   },
   "outputs": [],
   "source": [
    "def parse(input_list, dumpfile, output):\n",
    "    # read each line of dump file and create html for each product in input list\n",
    "    \n",
    "    g = gzip.open(dumpfile, 'rb')\n",
    "    # get list of products to extract\n",
    "    products = list()\n",
    "    with open(input_list) as f:\n",
    "        products = [x.strip() for x in f.readlines()]\n",
    "    \n",
    "    # get list of files in output directory\n",
    "    existing = os.listdir(output)\n",
    "    \n",
    "    # iterate dump file\n",
    "    for l in g:\n",
    "        line = l.strip()\n",
    "        # check if line is values(asin, html)\n",
    "        if line[0] == '(':\n",
    "            inner = line[1:-2]\n",
    "            \n",
    "            # values sperator\n",
    "            idx = inner.find(',')\n",
    "            \n",
    "            # split string into asin and html and convert to strings\n",
    "            asin = eval(inner[0:idx])\n",
    "            \n",
    "            if asin in products and asin + '.html' not in existing:\n",
    "                html = eval(inner[idx + 1:])\n",
    "                with open(output + '/{0}.html'.format(asin), mode='w') as f:\n",
    "                    f.write(html)\n",
    "                yield (asin)\n",
    "            "
   ]
  },
  {
   "cell_type": "code",
   "execution_count": 32,
   "metadata": {
    "collapsed": false
   },
   "outputs": [
    {
     "name": "stdout",
     "output_type": "stream",
     "text": [
      "603278\n",
      "0000031909\n"
     ]
    }
   ],
   "source": [
    "if __name__ == \"__main__\" and hasattr(main, '__file__'):\n",
    "    for x in parse(sys.argv[1], sys.argv[2],sys.argv[3]):\n",
    "        print x\n",
    "elif __name__ == \"__main__\":\n",
    "    for x in parse('asin_Women.csv', 'sampledump.gz',\"./test\"):\n",
    "        print x"
   ]
  },
  {
   "cell_type": "code",
   "execution_count": 37,
   "metadata": {
    "collapsed": false
   },
   "outputs": [
    {
     "data": {
      "text/plain": [
       "'INSERT INTO `AmazonProductLandingPageRaw` VALUES\\n'"
      ]
     },
     "execution_count": 37,
     "metadata": {},
     "output_type": "execute_result"
    }
   ],
   "source": [
    "g = gzip.open('sampledump.gz', 'rb')\n",
    "[x for x in g][3]"
   ]
  }
 ],
 "metadata": {
  "kernelspec": {
   "display_name": "Python 2",
   "language": "python",
   "name": "python2"
  },
  "language_info": {
   "codemirror_mode": {
    "name": "ipython",
    "version": 2
   },
   "file_extension": ".py",
   "mimetype": "text/x-python",
   "name": "python",
   "nbconvert_exporter": "python",
   "pygments_lexer": "ipython2",
   "version": "2.7.13"
  }
 },
 "nbformat": 4,
 "nbformat_minor": 2
}
